{
 "cells": [
  {
   "cell_type": "code",
   "execution_count": 8,
   "id": "e5c60ddc-254d-48db-99d9-b4cc79687341",
   "metadata": {},
   "outputs": [],
   "source": [
    "# Import necessary libraries\n",
    "import pandas as pd\n",
    "import numpy as np\n",
    "import matplotlib.pyplot as plt\n",
    "import seaborn as sns\n",
    "from sklearn.preprocessing import LabelEncoder, StandardScaler\n",
    "from sklearn.metrics.pairwise import cosine_similarity\n",
    "\n",
    "# Load datasets\n",
    "customers = pd.read_csv('D:/Zeotap Assignment/Customers.csv')\n",
    "products = pd.read_csv('D:/Zeotap Assignment/Products.csv')\n",
    "transactions = pd.read_csv('D:/Zeotap Assignment/Transactions.csv')"
   ]
  },
  {
   "cell_type": "code",
   "execution_count": 2,
   "id": "010e3f8a-3967-4f4e-942c-1c6d4f57f696",
   "metadata": {},
   "outputs": [
    {
     "data": {
      "application/javascript": [
       "\n",
       "        if (window._pyforest_update_imports_cell) { window._pyforest_update_imports_cell('from sklearn.preprocessing import LabelEncoder'); }\n",
       "    "
      ],
      "text/plain": [
       "<IPython.core.display.Javascript object>"
      ]
     },
     "metadata": {},
     "output_type": "display_data"
    }
   ],
   "source": [
    "# Encode categorical features in customers\n",
    "label_enc = LabelEncoder()\n",
    "customers[\"Region\"] = label_enc.fit_transform(customers[\"Region\"])"
   ]
  },
  {
   "cell_type": "code",
   "execution_count": 3,
   "id": "889e16d2-b1b5-49aa-ae55-420fc9f97f80",
   "metadata": {},
   "outputs": [],
   "source": [
    "# Convert SignupDate to numerical feature (days since first signup)\n",
    "customers[\"SignupDate\"] = pd.to_datetime(customers[\"SignupDate\"])\n",
    "min_date = customers[\"SignupDate\"].min()\n",
    "customers[\"DaysSinceSignup\"] = (customers[\"SignupDate\"] - min_date).dt.days"
   ]
  },
  {
   "cell_type": "code",
   "execution_count": 4,
   "id": "8008e496-7964-4620-a99b-dc98f9f05d70",
   "metadata": {},
   "outputs": [],
   "source": [
    "# Aggregate transaction data\n",
    "customer_spending = transactions.groupby(\"CustomerID\")[\"TotalValue\"].sum().reset_index()\n",
    "customer_spending.columns = [\"CustomerID\", \"TotalSpent\"]"
   ]
  },
  {
   "cell_type": "code",
   "execution_count": 5,
   "id": "c63892bb-6ce5-45b7-b7db-60257e7f7ce7",
   "metadata": {},
   "outputs": [],
   "source": [
    "# Merge customer data with spending data\n",
    "customers = customers.merge(customer_spending, on=\"CustomerID\", how=\"left\")\n",
    "customers[\"TotalSpent\"].fillna(0, inplace=True)"
   ]
  },
  {
   "cell_type": "code",
   "execution_count": 6,
   "id": "95826181-eba2-40eb-a904-67944bc17217",
   "metadata": {},
   "outputs": [
    {
     "data": {
      "application/javascript": [
       "\n",
       "        if (window._pyforest_update_imports_cell) { window._pyforest_update_imports_cell('from sklearn.preprocessing import StandardScaler\\nfrom sklearn.preprocessing import LabelEncoder'); }\n",
       "    "
      ],
      "text/plain": [
       "<IPython.core.display.Javascript object>"
      ]
     },
     "metadata": {},
     "output_type": "display_data"
    }
   ],
   "source": [
    "# Normalize features\n",
    "features = customers[[\"Region\", \"DaysSinceSignup\", \"TotalSpent\"]]\n",
    "scaler = StandardScaler()\n",
    "features_scaled = scaler.fit_transform(features)"
   ]
  },
  {
   "cell_type": "code",
   "execution_count": 9,
   "id": "8ef4302f-20fa-4c0f-ba29-c1c054700447",
   "metadata": {},
   "outputs": [],
   "source": [
    "# Compute similarity matrix\n",
    "similarity_matrix = cosine_similarity(features_scaled)"
   ]
  },
  {
   "cell_type": "code",
   "execution_count": 10,
   "id": "35fdb520-1cf2-461f-a454-30353f782920",
   "metadata": {},
   "outputs": [],
   "source": [
    "# Get top 3 similar customers for first 20 customers\n",
    "lookalike_map = {}\n",
    "\n",
    "for i in range(20):  # For first 20 customers\n",
    "    cust_id = customers.iloc[i][\"CustomerID\"]\n",
    "    sim_scores = list(enumerate(similarity_matrix[i]))\n",
    "    sim_scores = sorted(sim_scores, key=lambda x: x[1], reverse=True)[1:4]  # Top 3 excluding self\n",
    "    lookalike_map[cust_id] = [(customers.iloc[j][\"CustomerID\"], round(score, 4)) for j, score in sim_scores]"
   ]
  },
  {
   "cell_type": "code",
   "execution_count": 11,
   "id": "40aa8f08-892c-4c1f-85fa-75367ee444ec",
   "metadata": {},
   "outputs": [],
   "source": [
    "# Save as Lookalike.csv\n",
    "lookalike_df = pd.DataFrame(\n",
    "    [(key, str(value)) for key, value in lookalike_map.items()],\n",
    "    columns=[\"CustomerID\", \"Lookalikes\"]\n",
    ")\n",
    "lookalike_df.to_csv(\"Lookalike.csv\", index=False)"
   ]
  },
  {
   "cell_type": "code",
   "execution_count": 12,
   "id": "7261cb72-2045-439f-8dec-c554bd2ccda3",
   "metadata": {},
   "outputs": [
    {
     "name": "stdout",
     "output_type": "stream",
     "text": [
      "Lookalike.csv generated successfully!\n"
     ]
    }
   ],
   "source": [
    "print(\"Lookalike.csv generated successfully!\")"
   ]
  },
  {
   "cell_type": "code",
   "execution_count": null,
   "id": "7cad3601-5722-45dc-9a2b-840f4d06ed84",
   "metadata": {},
   "outputs": [],
   "source": []
  }
 ],
 "metadata": {
  "kernelspec": {
   "display_name": "Python 3 (ipykernel)",
   "language": "python",
   "name": "python3"
  },
  "language_info": {
   "codemirror_mode": {
    "name": "ipython",
    "version": 3
   },
   "file_extension": ".py",
   "mimetype": "text/x-python",
   "name": "python",
   "nbconvert_exporter": "python",
   "pygments_lexer": "ipython3",
   "version": "3.11.4"
  }
 },
 "nbformat": 4,
 "nbformat_minor": 5
}
