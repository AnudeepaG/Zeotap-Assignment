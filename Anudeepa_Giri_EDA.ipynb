{
 "cells": [
  {
   "cell_type": "code",
   "execution_count": 1,
   "id": "92e88d9a-2b0c-4433-905c-9b82f0fcaf52",
   "metadata": {},
   "outputs": [],
   "source": [
    "# Import necessary libraries\n",
    "import pandas as pd\n",
    "import numpy as np\n",
    "import matplotlib.pyplot as plt\n",
    "import seaborn as sns\n",
    "\n",
    "# Load the dataset\n",
    "# Replace 'dataset.csv' with the actual file name or path to your dataset\n",
    "df = pd.read_csv('D:/Zeotap Assignment/Customers.csv')"
   ]
  },
  {
   "cell_type": "code",
   "execution_count": 2,
   "id": "4ac16981-7be4-4c28-8bfc-1858b5a85771",
   "metadata": {},
   "outputs": [
    {
     "name": "stdout",
     "output_type": "stream",
     "text": [
      "Dataset Preview:\n"
     ]
    },
    {
     "data": {
      "text/html": [
       "<div>\n",
       "<style scoped>\n",
       "    .dataframe tbody tr th:only-of-type {\n",
       "        vertical-align: middle;\n",
       "    }\n",
       "\n",
       "    .dataframe tbody tr th {\n",
       "        vertical-align: top;\n",
       "    }\n",
       "\n",
       "    .dataframe thead th {\n",
       "        text-align: right;\n",
       "    }\n",
       "</style>\n",
       "<table border=\"1\" class=\"dataframe\">\n",
       "  <thead>\n",
       "    <tr style=\"text-align: right;\">\n",
       "      <th></th>\n",
       "      <th>CustomerID</th>\n",
       "      <th>CustomerName</th>\n",
       "      <th>Region</th>\n",
       "      <th>SignupDate</th>\n",
       "    </tr>\n",
       "  </thead>\n",
       "  <tbody>\n",
       "    <tr>\n",
       "      <th>0</th>\n",
       "      <td>C0001</td>\n",
       "      <td>Lawrence Carroll</td>\n",
       "      <td>South America</td>\n",
       "      <td>2022-07-10</td>\n",
       "    </tr>\n",
       "    <tr>\n",
       "      <th>1</th>\n",
       "      <td>C0002</td>\n",
       "      <td>Elizabeth Lutz</td>\n",
       "      <td>Asia</td>\n",
       "      <td>2022-02-13</td>\n",
       "    </tr>\n",
       "    <tr>\n",
       "      <th>2</th>\n",
       "      <td>C0003</td>\n",
       "      <td>Michael Rivera</td>\n",
       "      <td>South America</td>\n",
       "      <td>2024-03-07</td>\n",
       "    </tr>\n",
       "    <tr>\n",
       "      <th>3</th>\n",
       "      <td>C0004</td>\n",
       "      <td>Kathleen Rodriguez</td>\n",
       "      <td>South America</td>\n",
       "      <td>2022-10-09</td>\n",
       "    </tr>\n",
       "    <tr>\n",
       "      <th>4</th>\n",
       "      <td>C0005</td>\n",
       "      <td>Laura Weber</td>\n",
       "      <td>Asia</td>\n",
       "      <td>2022-08-15</td>\n",
       "    </tr>\n",
       "  </tbody>\n",
       "</table>\n",
       "</div>"
      ],
      "text/plain": [
       "  CustomerID        CustomerName         Region  SignupDate\n",
       "0      C0001    Lawrence Carroll  South America  2022-07-10\n",
       "1      C0002      Elizabeth Lutz           Asia  2022-02-13\n",
       "2      C0003      Michael Rivera  South America  2024-03-07\n",
       "3      C0004  Kathleen Rodriguez  South America  2022-10-09\n",
       "4      C0005         Laura Weber           Asia  2022-08-15"
      ]
     },
     "metadata": {},
     "output_type": "display_data"
    }
   ],
   "source": [
    "print(\"Dataset Preview:\")\n",
    "display(df.head())"
   ]
  },
  {
   "cell_type": "code",
   "execution_count": 3,
   "id": "1ee2bb12-041b-432e-be6c-01c235c25925",
   "metadata": {},
   "outputs": [
    {
     "name": "stdout",
     "output_type": "stream",
     "text": [
      "\n",
      "Dataset Information:\n",
      "<class 'pandas.core.frame.DataFrame'>\n",
      "RangeIndex: 200 entries, 0 to 199\n",
      "Data columns (total 4 columns):\n",
      " #   Column        Non-Null Count  Dtype \n",
      "---  ------        --------------  ----- \n",
      " 0   CustomerID    200 non-null    object\n",
      " 1   CustomerName  200 non-null    object\n",
      " 2   Region        200 non-null    object\n",
      " 3   SignupDate    200 non-null    object\n",
      "dtypes: object(4)\n",
      "memory usage: 6.4+ KB\n"
     ]
    }
   ],
   "source": [
    "# Display dataset information\n",
    "print(\"\\nDataset Information:\")\n",
    "df.info()"
   ]
  },
  {
   "cell_type": "code",
   "execution_count": 4,
   "id": "42336de3-2475-4d75-a4d8-30821f6035eb",
   "metadata": {},
   "outputs": [
    {
     "name": "stdout",
     "output_type": "stream",
     "text": [
      "\n",
      "Missing Values:\n",
      "Series([], dtype: int64)\n"
     ]
    }
   ],
   "source": [
    "# Check for missing values\n",
    "print(\"\\nMissing Values:\")\n",
    "missing_values = df.isnull().sum()\n",
    "print(missing_values[missing_values > 0])"
   ]
  },
  {
   "cell_type": "code",
   "execution_count": 5,
   "id": "6bb9b1a9-cc91-4ef1-8d8b-67e560e7209f",
   "metadata": {},
   "outputs": [
    {
     "name": "stdout",
     "output_type": "stream",
     "text": [
      "\n",
      "Summary Statistics (Numerical Columns):\n",
      "       CustomerID      CustomerName         Region  SignupDate\n",
      "count         200               200            200         200\n",
      "unique        200               200              4         179\n",
      "top         C0001  Lawrence Carroll  South America  2024-11-11\n",
      "freq            1                 1             59           3\n"
     ]
    }
   ],
   "source": [
    "# Summary statistics for numerical columns\n",
    "print(\"\\nSummary Statistics (Numerical Columns):\")\n",
    "print(df.describe())"
   ]
  },
  {
   "cell_type": "code",
   "execution_count": 6,
   "id": "4e1fd37a-268f-4f61-82cb-bad51d6b181a",
   "metadata": {},
   "outputs": [],
   "source": [
    "# Convert SignupDate to datetime\n",
    "df['SignupDate'] = pd.to_datetime(df['SignupDate'])"
   ]
  },
  {
   "cell_type": "code",
   "execution_count": 7,
   "id": "9f62a569-90e0-46c0-b99a-ed0ffb2df405",
   "metadata": {},
   "outputs": [],
   "source": [
    "# Extract year and month from SignupDate\n",
    "df['SignupYear'] = df['SignupDate'].dt.year\n",
    "df['SignupMonth'] = df['SignupDate'].dt.month"
   ]
  },
  {
   "cell_type": "code",
   "execution_count": 8,
   "id": "658b766f-ea10-4317-aa60-c8c4c52ce8ec",
   "metadata": {},
   "outputs": [
    {
     "name": "stdout",
     "output_type": "stream",
     "text": [
      "\n",
      "Customer Count by Region:\n",
      "Region\n",
      "South America    59\n",
      "Europe           50\n",
      "North America    46\n",
      "Asia             45\n",
      "Name: count, dtype: int64\n"
     ]
    }
   ],
   "source": [
    "# Count customers by region\n",
    "region_counts = df['Region'].value_counts()\n",
    "print(\"\\nCustomer Count by Region:\")\n",
    "print(region_counts)"
   ]
  },
  {
   "cell_type": "code",
   "execution_count": 9,
   "id": "43c3d742-aa44-45d3-91de-27237f6a55b5",
   "metadata": {},
   "outputs": [
    {
     "data": {
      "image/png": "[encoded data removed]",
      "text/plain": [
       "<Figure size 800x500 with 1 Axes>"
      ]
     },
     "metadata": {},
     "output_type": "display_data"
    }
   ],
   "source": [
    "# Visualize customer count by region\n",
    "plt.figure(figsize=(8, 5))\n",
    "sns.barplot(x=region_counts.index, y=region_counts.values, palette=\"viridis\")\n",
    "plt.title(\"Customer Count by Region\")\n",
    "plt.xlabel(\"Region\")\n",
    "plt.ylabel(\"Count\")\n",
    "plt.show()"
   ]
  },
  {
   "cell_type": "code",
   "execution_count": 10,
   "id": "a03def72-207f-4d1f-8ca8-15747ed87368",
   "metadata": {},
   "outputs": [
    {
     "name": "stdout",
     "output_type": "stream",
     "text": [
      "\n",
      "Signups by Year:\n",
      "SignupYear\n",
      "2022    64\n",
      "2023    57\n",
      "2024    79\n",
      "Name: count, dtype: int64\n"
     ]
    }
   ],
   "source": [
    "# Analyze signup trends by year\n",
    "signup_year_counts = df['SignupYear'].value_counts().sort_index()\n",
    "print(\"\\nSignups by Year:\")\n",
    "print(signup_year_counts)"
   ]
  },
  {
   "cell_type": "code",
   "execution_count": 11,
   "id": "c8b11031-34ab-4581-80f8-aabc25bd64b3",
   "metadata": {},
   "outputs": [
    {
     "data": {
      "image/png": "[encoded data removed]",
      "text/plain": [
       "<Figure size 800x500 with 1 Axes>"
      ]
     },
     "metadata": {},
     "output_type": "display_data"
    }
   ],
   "source": [
    "# Visualize signups by year\n",
    "plt.figure(figsize=(8, 5))\n",
    "sns.lineplot(x=signup_year_counts.index, y=signup_year_counts.values, marker='o', color='blue')\n",
    "plt.title(\"Signups by Year\")\n",
    "plt.xlabel(\"Year\")\n",
    "plt.ylabel(\"Number of Signups\")\n",
    "plt.show()"
   ]
  },
  {
   "cell_type": "code",
   "execution_count": 12,
   "id": "1acaf533-0591-4faf-bd85-42e4043292f0",
   "metadata": {},
   "outputs": [
    {
     "name": "stdout",
     "output_type": "stream",
     "text": [
      "\n",
      "Signups by Month:\n",
      "SignupMonth\n",
      "1     15\n",
      "2     21\n",
      "3     20\n",
      "4     24\n",
      "5     17\n",
      "6     12\n",
      "7     13\n",
      "8     10\n",
      "9     21\n",
      "10    15\n",
      "11    19\n",
      "12    13\n",
      "Name: count, dtype: int64\n"
     ]
    }
   ],
   "source": [
    "# Seasonal analysis: signups by month\n",
    "signup_month_counts = df['SignupMonth'].value_counts().sort_index()\n",
    "print(\"\\nSignups by Month:\")\n",
    "print(signup_month_counts)"
   ]
  },
  {
   "cell_type": "code",
   "execution_count": 13,
   "id": "7db1b2d6-42be-48de-b9a4-03c253ebe261",
   "metadata": {},
   "outputs": [
    {
     "data": {
      "image/png": "[encoded data removed]",
      "text/plain": [
       "<Figure size 800x500 with 1 Axes>"
      ]
     },
     "metadata": {},
     "output_type": "display_data"
    }
   ],
   "source": [
    "# Visualize signups by month\n",
    "plt.figure(figsize=(8, 5))\n",
    "sns.barplot(x=signup_month_counts.index, y=signup_month_counts.values, palette=\"coolwarm\")\n",
    "plt.title(\"Signups by Month\")\n",
    "plt.xlabel(\"Month\")\n",
    "plt.ylabel(\"Number of Signups\")\n",
    "plt.show()"
   ]
  },
  {
   "cell_type": "code",
   "execution_count": 14,
   "id": "d4c4697d-56a2-4e5a-b0ef-7426471cdee2",
   "metadata": {},
   "outputs": [
    {
     "name": "stdout",
     "output_type": "stream",
     "text": [
      "\n",
      "Business Insights:\n",
      "1. Most customers are from the 'South America' region, making it the key area for targeted marketing campaigns.\n",
      "2. The year 2024 recorded the highest customer signups, indicating a period of growth or successful marketing strategies.\n",
      "3. Customer signups peak during month 4 which might indicate a seasonal trend to focus promotional efforts.\n",
      "4. There are gaps in signups from regions like 'Asia' indicating opportunities for market expansion.\n",
      "5. Customers who signed up in the past two years represent a growing trend, suggesting a shift towards newer customer acquisition strategies.\n"
     ]
    }
   ],
   "source": [
    "# Business insights derived\n",
    "business_insights = [\n",
    "    \"1. Most customers are from the '{}' region, making it the key area for targeted marketing campaigns.\".format(region_counts.idxmax()),\n",
    "    \"2. The year {} recorded the highest customer signups, indicating a period of growth or successful marketing strategies.\".format(signup_year_counts.idxmax()),\n",
    "    \"3. Customer signups peak during month {} which might indicate a seasonal trend to focus promotional efforts.\".format(signup_month_counts.idxmax()),\n",
    "    \"4. There are gaps in signups from regions like '{}' indicating opportunities for market expansion.\".format(', '.join(region_counts[region_counts == region_counts.min()].index)),\n",
    "    \"5. Customers who signed up in the past two years represent a growing trend, suggesting a shift towards newer customer acquisition strategies.\"\n",
    "]\n",
    "\n",
    "print(\"\\nBusiness Insights:\")\n",
    "for insight in business_insights:\n",
    "    print(insight)"
   ]
  },
  {
   "cell_type": "code",
   "execution_count": null,
   "id": "c87b6f6a-15c9-4bc4-9518-da7de6b6a604",
   "metadata": {},
   "outputs": [],
   "source": []
  }
 ],
 "metadata": {
  "kernelspec": {
   "display_name": "Python 3 (ipykernel)",
   "language": "python",
   "name": "python3"
  },
  "language_info": {
   "codemirror_mode": {
    "name": "ipython",
    "version": 3
   },
   "file_extension": ".py",
   "mimetype": "text/x-python",
   "name": "python",
   "nbconvert_exporter": "python",
   "pygments_lexer": "ipython3",
   "version": "3.11.4"
  }
 },
 "nbformat": 4,
 "nbformat_minor": 5
}
